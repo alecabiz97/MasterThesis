{
 "cells": [
  {
   "cell_type": "markdown",
   "id": "8375c7bb-678e-42d0-a686-6f2776f87325",
   "metadata": {
    "tags": []
   },
   "source": [
    "# Import library"
   ]
  },
  {
   "cell_type": "code",
   "execution_count": 1,
   "id": "a92bb4c7-407a-4768-a6ea-3b3cbc60bb5c",
   "metadata": {
    "tags": []
   },
   "outputs": [],
   "source": [
    "using Pkg\n",
    "\n",
    "using Flux, MLDataPattern, Mill, JsonGrinder, JSON, Statistics, IterTools, StatsBase, ThreadTools\n",
    "using JsonGrinder: suggestextractor, ExtractDict\n",
    "using Mill: reflectinmodel\n",
    "using CSV, DataFrames\n",
    "using Random\n",
    "using Dates\n",
    "using Plots\n",
    "using Printf\n",
    "\n",
    "#using Zygote, MLDataPattern\n",
    "\n",
    "#ENV[\"PYTHON\"]=\"C:\\\\Users\\\\aleca\\\\anaconda3\\\\python.exe\"\n",
    "#Pkg.build(\"PyCall\")\n",
    "#using ScikitLearn, PyCall"
   ]
  },
  {
   "cell_type": "markdown",
   "id": "563cc044-d8c6-44c9-8a23-b7b94b57edc6",
   "metadata": {
    "tags": []
   },
   "source": [
    "# Read data"
   ]
  },
  {
   "cell_type": "code",
   "execution_count": 4,
   "id": "2aba5cf9-66f2-4b5b-ad7c-7091a1327005",
   "metadata": {},
   "outputs": [
    {
     "data": {
      "text/plain": [
       "1"
      ]
     },
     "execution_count": 4,
     "metadata": {},
     "output_type": "execute_result"
    }
   ],
   "source": [
    "THREADS = Threads.nthreads() "
   ]
  },
  {
   "cell_type": "code",
   "execution_count": 5,
   "id": "48c339ce-1541-4dde-99bf-f63c64c7346f",
   "metadata": {},
   "outputs": [],
   "source": [
    "PATH_TO_REDUCED_REPORTS = \"C:/Users/aleca/PycharmProjects/MasterThesis/Avast/public_small_reports/\"\n",
    "PATH_TO_LABELS = \"C:/Users/aleca/PycharmProjects/MasterThesis/Avast/subset_10.csv\" ;\n",
    "#PATH_TO_LABELS = \"C:/Users/aleca/PycharmProjects/MasterThesis/Avast/subset_50.csv\" ;\n",
    "#PATH_TO_LABELS = \"C:/Users/aleca/PycharmProjects/MasterThesis/Avast/subset_100.csv\" ;\n",
    "#PATH_TO_LABELS = \"C:/Users/aleca/PycharmProjects/MasterThesis/Avast/public_labels.csv\" ;#"
   ]
  },
  {
   "cell_type": "code",
   "execution_count": 6,
   "id": "f05add69-5ac8-4f85-aff3-c4e71db6ed14",
   "metadata": {
    "tags": []
   },
   "outputs": [],
   "source": [
    "df_labels=CSV.read(PATH_TO_LABELS,DataFrame);\n",
    "targets=df_labels.classification_family;\n",
    "labels=Set(df_labels.classification_family);\n",
    "n_classes=length(labels);"
   ]
  },
  {
   "cell_type": "code",
   "execution_count": 7,
   "id": "e20ab734-3cea-4263-a77a-53df8da504a4",
   "metadata": {
    "tags": []
   },
   "outputs": [
    {
     "name": "stdout",
     "output_type": "stream",
     "text": [
      "N samples: 100\n",
      "N classes: 10\n"
     ]
    }
   ],
   "source": [
    "jsons = tmap(df_labels.sha256) do s\n",
    "    try \n",
    "        x=open(JSON.parse, \"$(PATH_TO_REDUCED_REPORTS)$(s).json\")\n",
    "        #delete!(x,\"static\") # Take only the behavioral info\n",
    "        delete!(x,\"behavior\") # Take only the static info\n",
    "    catch e\n",
    "        @error \"Error when processing sha $s: $e\"\n",
    "    end\n",
    "end ;\n",
    "\n",
    "n_samples=length(jsons)\n",
    "println(\"N samples: $(n_samples)\")\n",
    "println(\"N classes: $(n_classes)\")\n",
    "    \n",
    "@assert size(jsons, 1) == length(targets)"
   ]
  },
  {
   "cell_type": "code",
   "execution_count": 8,
   "id": "046ade2c-982e-48a2-9f6f-2c8c0b501a3e",
   "metadata": {},
   "outputs": [
    {
     "name": "stdout",
     "output_type": "stream",
     "text": [
      "Train size: 76\n",
      "Test size: 24\n"
     ]
    }
   ],
   "source": [
    "timesplit = Date(2019,8,1)\n",
    "train_indexes = findall(i -> df_labels.date[i] < timesplit, 1:n_samples)\n",
    "test_indexes = [setdiff(Set(1:n_samples), Set(train_indexes))...] ;\n",
    "\n",
    "train_size = length(train_indexes)\n",
    "test_size = length(test_indexes)\n",
    "\n",
    "println(\"Train size: $(train_size)\")\n",
    "println(\"Test size: $(test_size)\")"
   ]
  },
  {
   "cell_type": "markdown",
   "id": "59a97495-e89c-4f22-8b0f-4c8d114a63ca",
   "metadata": {
    "tags": []
   },
   "source": [
    "# Define scheme and model"
   ]
  },
  {
   "cell_type": "code",
   "execution_count": 11,
   "id": "ca08e2bd-66c8-4a8e-a0e0-aa39420c9817",
   "metadata": {
    "tags": []
   },
   "outputs": [
    {
     "name": "stdout",
     "output_type": "stream",
     "text": [
      "\u001b[34m[Dict]\u001b[39m\u001b[90m  # updated = 76\u001b[39m\n",
      "\u001b[34m  ╰── static: \u001b[39m\u001b[31m[Dict]\u001b[39m\u001b[90m  # updated = 75\u001b[39m\n",
      "\u001b[34m              \u001b[39m\u001b[31m  ╰── pe: \u001b[39m\u001b[32m[Dict]\u001b[39m\u001b[90m  # updated = 75\u001b[39m\n",
      "\u001b[34m              \u001b[39m\u001b[31m          \u001b[39m\u001b[32m  ├─── reported_checksum: \u001b[39m\u001b[39m[Scalar - String], 37 unique values\u001b[90m  # updated = 75\u001b[39m\n",
      "\u001b[34m              \u001b[39m\u001b[31m          \u001b[39m\u001b[32m  ├───────── versioninfo: \u001b[39m\u001b[33m[Empty List]\u001b[39m\u001b[90m  # updated = 75\u001b[39m\n",
      "\u001b[34m              \u001b[39m\u001b[31m          \u001b[39m\u001b[32m  │                       \u001b[39m\u001b[33m  ╰── \u001b[39m\u001b[39mNothing\n",
      "\u001b[34m              \u001b[39m\u001b[31m          \u001b[39m\u001b[32m  ├───────────── exports: \u001b[39m\u001b[33m[List]\u001b[39m\u001b[90m  # updated = 75\u001b[39m\n",
      "\u001b[34m              \u001b[39m\u001b[31m          \u001b[39m\u001b[32m  │                       \u001b[39m\u001b[33m  ╰── \u001b[39m\u001b[36m[Dict]\u001b[39m\u001b[90m  # updated = 2\u001b[39m\n",
      "\u001b[34m              \u001b[39m\u001b[31m          \u001b[39m\u001b[32m  │                       \u001b[39m\u001b[33m      \u001b[39m\u001b[36m  ├── address: \u001b[39m\u001b[39m[Scalar - String], 2 unique values\u001b[90m  # updated = 2\u001b[39m\n",
      "\u001b[34m              \u001b[39m\u001b[31m          \u001b[39m\u001b[32m  │                       \u001b[39m\u001b[33m      \u001b[39m\u001b[36m  ├── ordinal: \u001b[39m\u001b[39m[Scalar - Int64], 1 unique values\u001b[90m  # updated = 2\u001b[39m\n",
      "\u001b[34m              \u001b[39m\u001b[31m          \u001b[39m\u001b[32m  │                       \u001b[39m\u001b[33m      \u001b[39m\u001b[36m  ╰───── name: \u001b[39m\u001b[39m[Scalar - String], 2 unique values\u001b[90m  # updated = 2\u001b[39m\n",
      "\u001b[34m              \u001b[39m\u001b[31m          \u001b[39m\u001b[32m  ├── imported_dll_count: \u001b[39m\u001b[39m[Scalar - Int64], 20 unique values\u001b[90m  # updated = 75\u001b[39m\n",
      "\u001b[34m              \u001b[39m\u001b[31m          \u001b[39m\u001b[32m  ├───────────── imphash: \u001b[39m\u001b[39m[Scalar - String], 66 unique values\u001b[90m  # updated = 75\u001b[39m\n",
      "\u001b[34m              \u001b[39m\u001b[31m          \u001b[39m\u001b[32m  ├─────────── osversion: \u001b[39m\u001b[39m[Scalar - String], 7 unique values\u001b[90m  # updated = 75\u001b[39m\n",
      "\u001b[34m              \u001b[39m\u001b[31m          \u001b[39m\u001b[32m  ├─── exported_dll_name: \u001b[39m\u001b[39m[Scalar - String], 5 unique values\u001b[90m  # updated = 6\u001b[39m\n",
      "\u001b[34m              \u001b[39m\u001b[31m          \u001b[39m\u001b[32m  ├─────────── timestamp: \u001b[39m\u001b[39m[Scalar - String], 64 unique values\u001b[90m  # updated = 75\u001b[39m\n",
      "\u001b[34m              \u001b[39m\u001b[31m          \u001b[39m\u001b[32m  ├───────────── overlay: \u001b[39m\u001b[33m[Dict]\u001b[39m\u001b[90m  # updated = 44\u001b[39m\n",
      "\u001b[34m              \u001b[39m\u001b[31m          \u001b[39m\u001b[32m  │                       \u001b[39m\u001b[33m  ├── offset: \u001b[39m\u001b[39m[Scalar - String], 37 unique values\u001b[90m  # updated = 44\u001b[39m\n",
      "\u001b[34m              \u001b[39m\u001b[31m          \u001b[39m\u001b[32m  │                       \u001b[39m\u001b[33m  ╰──── size: \u001b[39m\u001b[39m[Scalar - String], 34 unique values\u001b[90m  # updated = 44\u001b[39m\n",
      "\u001b[34m              \u001b[39m\u001b[31m          \u001b[39m\u001b[32m  ├───── actual_checksum: \u001b[39m\u001b[39m[Scalar - String], 75 unique values\u001b[90m  # updated = 75\u001b[39m\n",
      "\u001b[34m              \u001b[39m\u001b[31m          \u001b[39m\u001b[32m  ├────────── icon_fuzzy: \u001b[39m\u001b[39m[Scalar - String], 19 unique values\u001b[90m  # updated = 23\u001b[39m\n",
      "\u001b[34m              \u001b[39m\u001b[31m          \u001b[39m\u001b[32m  ├────────── entrypoint: \u001b[39m\u001b[39m[Scalar - String], 67 unique values\u001b[90m  # updated = 75\u001b[39m\n",
      "\u001b[34m              \u001b[39m\u001b[31m          \u001b[39m\u001b[32m  ├───────────── dirents: \u001b[39m\u001b[33m[List]\u001b[39m\u001b[90m  # updated = 75\u001b[39m\n",
      "\u001b[34m              \u001b[39m\u001b[31m          \u001b[39m\u001b[32m  │                       \u001b[39m\u001b[33m  ╰── \u001b[39m\u001b[36m[Dict]\u001b[39m\u001b[90m  # updated = 1199\u001b[39m\n",
      "\u001b[34m              \u001b[39m\u001b[31m          \u001b[39m\u001b[32m  │                       \u001b[39m\u001b[33m      \u001b[39m\u001b[36m  ├── virtual_address: \u001b[39m\u001b[39m[Scalar - String], 250 unique values\u001b[90m  # updated = 1199\u001b[39m\n",
      "\u001b[34m              \u001b[39m\u001b[31m          \u001b[39m\u001b[32m  │                       \u001b[39m\u001b[33m      \u001b[39m\u001b[36m  ├───────────── name: \u001b[39m\u001b[39m[Scalar - String], 16 unique values\u001b[90m  # updated = 1199\u001b[39m\n",
      "\u001b[34m              \u001b[39m\u001b[31m          \u001b[39m\u001b[32m  │                       \u001b[39m\u001b[33m      \u001b[39m\u001b[36m  ╰───────────── size: \u001b[39m\u001b[39m[Scalar - String], 179 unique values\u001b[90m  # updated = 1199\u001b[39m\n",
      "\u001b[34m              \u001b[39m\u001b[31m          \u001b[39m\u001b[32m  ├─────── guest_signers: \u001b[39m\u001b[33m[Dict]\u001b[39m\u001b[90m  # updated = 75\u001b[39m\n",
      "\u001b[34m              \u001b[39m\u001b[31m          \u001b[39m\u001b[32m  │                       \u001b[39m\u001b[33m  ├── aux_error_desc: \u001b[39m\u001b[39m[Scalar - String], 75 unique values\u001b[90m  # updated = 75\u001b[39m\n",
      "\u001b[34m              \u001b[39m\u001b[31m          \u001b[39m\u001b[32m  │                       \u001b[39m\u001b[33m  ├─────── aux_error: \u001b[39m\u001b[39m[Scalar - Bool], 1 unique values\u001b[90m  # updated = 75\u001b[39m\n",
      "\u001b[34m              \u001b[39m\u001b[31m          \u001b[39m\u001b[32m  │                       \u001b[39m\u001b[33m  ├───── aux_signers: \u001b[39m\u001b[36m[Empty List]\u001b[39m\u001b[90m  # updated = 75\u001b[39m\n",
      "\u001b[34m              \u001b[39m\u001b[31m          \u001b[39m\u001b[32m  │                       \u001b[39m\u001b[33m  │                   \u001b[39m\u001b[36m  ╰── \u001b[39m\u001b[39mNothing\n",
      "\u001b[34m              \u001b[39m\u001b[31m          \u001b[39m\u001b[32m  │                       \u001b[39m\u001b[33m  ╰─────── aux_valid: \u001b[39m\u001b[39m[Scalar - Bool], 1 unique values\u001b[90m  # updated = 75\u001b[39m\n",
      "\u001b[34m              \u001b[39m\u001b[31m          \u001b[39m\u001b[32m  ├───── digital_signers: \u001b[39m\u001b[33m[List]\u001b[39m\u001b[90m  # updated = 75\u001b[39m\n",
      "\u001b[34m              \u001b[39m\u001b[31m          \u001b[39m\u001b[32m  │                       \u001b[39m\u001b[33m  ╰── \u001b[39m\u001b[36m[Dict]\u001b[39m\u001b[90m  # updated = 16\u001b[39m\n",
      "\u001b[34m              \u001b[39m\u001b[31m          \u001b[39m\u001b[32m  │                       \u001b[39m\u001b[33m      \u001b[39m\u001b[36m  ├───────────────────────────────── not_after: \u001b[39m\u001b[39m[Scalar - String], 9 unique values\u001b[90m  # updated = 16\u001b[39m\n",
      "\u001b[34m              \u001b[39m\u001b[31m          \u001b[39m\u001b[32m  │                       \u001b[39m\u001b[33m      \u001b[39m\u001b[36m  ├───────────── issuer_organizationalUnitName: \u001b[39m\u001b[39m[Scalar - String], 4 unique values\u001b[90m  # updated = 6\u001b[39m\n",
      "\u001b[34m              \u001b[39m\u001b[31m          \u001b[39m\u001b[32m  │                       \u001b[39m\u001b[33m      \u001b[39m\u001b[36m  ├──────────────────────── issuer_countryName: \u001b[39m\u001b[39m[Scalar - String], 5 unique values\u001b[90m  # updated = 13\u001b[39m\n",
      "\u001b[34m              \u001b[39m\u001b[31m          \u001b[39m\u001b[32m  │                       \u001b[39m\u001b[33m      \u001b[39m\u001b[36m  ├── extensions_authorityInfoAccess_caIssuers: \u001b[39m\u001b[39m[Scalar - String], 7 unique values\u001b[90m  # updated = 9\u001b[39m\n",
      "\u001b[34m              \u001b[39m\u001b[31m          \u001b[39m\u001b[32m  │                       \u001b[39m\u001b[33m      \u001b[39m\u001b[36m  ├──────────────────────── sha256_fingerprint: \u001b[39m\u001b[39m[Scalar - String], 15 unique values\u001b[90m  # updated = 16\u001b[39m\n",
      "\u001b[34m              \u001b[39m\u001b[31m          \u001b[39m\u001b[32m  │                       \u001b[39m\u001b[33m      \u001b[39m\u001b[36m  ├───────────────────────── issuer_commonName: \u001b[39m\u001b[39m[Scalar - String], 12 unique values\u001b[90m  # updated = 16\u001b[39m\n",
      "\u001b[34m              \u001b[39m\u001b[31m          \u001b[39m\u001b[32m  │                       \u001b[39m\u001b[33m      \u001b[39m\u001b[36m  ├─────────────────── issuer_organizationName: \u001b[39m\u001b[39m[Scalar - String], 7 unique values\u001b[90m  # updated = 13\u001b[39m\n",
      "\u001b[34m              \u001b[39m\u001b[31m          \u001b[39m\u001b[32m  │                       \u001b[39m\u001b[33m      \u001b[39m\u001b[36m  ├──────── extensions_cRLDistributionPoints_0: \u001b[39m\u001b[39m[Scalar - String], 9 unique values\u001b[90m  # updated = 12\u001b[39m\n",
      "\u001b[34m              \u001b[39m\u001b[31m          \u001b[39m\u001b[32m  │                       \u001b[39m\u001b[33m      \u001b[39m\u001b[36m  ├─────────────────────────── md5_fingerprint: \u001b[39m\u001b[39m[Scalar - String], 15 unique values\u001b[90m  # updated = 16\u001b[39m\n",
      "\u001b[34m              \u001b[39m\u001b[31m          \u001b[39m\u001b[32m  │                       \u001b[39m\u001b[33m      \u001b[39m\u001b[36m  ├─────────────── subject_stateOrProvinceName: \u001b[39m\u001b[39m[Scalar - String], 5 unique values\u001b[90m  # updated = 9\u001b[39m\n",
      "\u001b[34m              \u001b[39m\u001b[31m          \u001b[39m\u001b[32m  │                       \u001b[39m\u001b[33m      \u001b[39m\u001b[36m  ├────────────────────── subject_localityName: \u001b[39m\u001b[39m[Scalar - String], 5 unique values\u001b[90m  # updated = 9\u001b[39m\n",
      "\u001b[34m              \u001b[39m\u001b[31m          \u001b[39m\u001b[32m  │                       \u001b[39m\u001b[33m      \u001b[39m\u001b[36m  ├─────── extensions_authorityInfoAccess_OCSP: \u001b[39m\u001b[39m[Scalar - String], 7 unique values\u001b[90m  # updated = 12\u001b[39m\n",
      "\u001b[34m              \u001b[39m\u001b[31m          \u001b[39m\u001b[32m  │                       \u001b[39m\u001b[33m      \u001b[39m\u001b[36m  ├─────────────────────── subject_countryName: \u001b[39m\u001b[39m[Scalar - String], 4 unique values\u001b[90m  # updated = 13\u001b[39m\n",
      "\u001b[34m              \u001b[39m\u001b[31m          \u001b[39m\u001b[32m  │                       \u001b[39m\u001b[33m      \u001b[39m\u001b[36m  ├────────── extensions_certificatePolicies_0: \u001b[39m\u001b[39m[Scalar - String], 4 unique values\u001b[90m  # updated = 5\u001b[39m\n",
      "\u001b[34m              \u001b[39m\u001b[31m          \u001b[39m\u001b[32m  │                       \u001b[39m\u001b[33m      \u001b[39m\u001b[36m  ├──────────────────────── subject_commonName: \u001b[39m\u001b[39m[Scalar - String], 15 unique values\u001b[90m  # updated = 16\u001b[39m\n",
      "\u001b[34m              \u001b[39m\u001b[31m          \u001b[39m\u001b[32m  │                       \u001b[39m\u001b[33m      \u001b[39m\u001b[36m  ├──────────────────────── subject_postalCode: \u001b[39m\u001b[39m[Scalar - String], 2 unique values\u001b[90m  # updated = 2\u001b[39m\n",
      "\u001b[34m              \u001b[39m\u001b[31m          \u001b[39m\u001b[32m  │                       \u001b[39m\u001b[33m      \u001b[39m\u001b[36m  ├──────────── subject_organizationalUnitName: \u001b[39m\u001b[39m[Scalar - String], 3 unique values\u001b[90m  # updated = 3\u001b[39m\n",
      "\u001b[34m              \u001b[39m\u001b[31m          \u001b[39m\u001b[32m  │                       \u001b[39m\u001b[33m      \u001b[39m\u001b[36m  ├────────────────── subject_organizationName: \u001b[39m\u001b[39m[Scalar - String], 9 unique values\u001b[90m  # updated = 13\u001b[39m\n",
      "\u001b[34m              \u001b[39m\u001b[31m          \u001b[39m\u001b[32m  │                       \u001b[39m\u001b[33m      \u001b[39m\u001b[36m  ├────────────────────────── sha1_fingerprint: \u001b[39m\u001b[39m[Scalar - String], 15 unique values\u001b[90m  # updated = 16\u001b[39m\n",
      "\u001b[34m              \u001b[39m\u001b[31m          \u001b[39m\u001b[32m  │                       \u001b[39m\u001b[33m      \u001b[39m\u001b[36m  ├──────────────── issuer_stateOrProvinceName: \u001b[39m\u001b[39m[Scalar - String], 3 unique values\u001b[90m  # updated = 7\u001b[39m\n",
      "\u001b[34m              \u001b[39m\u001b[31m          \u001b[39m\u001b[32m  │                       \u001b[39m\u001b[33m      \u001b[39m\u001b[36m  ├───────────────────────────── serial_number: \u001b[39m\u001b[39m[Scalar - String], 15 unique values\u001b[90m  # updated = 16\u001b[39m\n",
      "\u001b[34m              \u001b[39m\u001b[31m          \u001b[39m\u001b[32m  │                       \u001b[39m\u001b[33m      \u001b[39m\u001b[36m  ├──────────────────────────────── not_before: \u001b[39m\u001b[39m[Scalar - String], 14 unique values\u001b[90m  # updated = 16\u001b[39m\n",
      "\u001b[34m              \u001b[39m\u001b[31m          \u001b[39m\u001b[32m  │                       \u001b[39m\u001b[33m      \u001b[39m\u001b[36m  ├───────── extensions_authorityKeyIdentifier: \u001b[39m\u001b[39m[Scalar - String], 8 unique values\u001b[90m  # updated = 12\u001b[39m\n",
      "\u001b[34m              \u001b[39m\u001b[31m          \u001b[39m\u001b[32m  │                       \u001b[39m\u001b[33m      \u001b[39m\u001b[36m  ├───────────────────── subject_streetAddress: \u001b[39m\u001b[39m[Scalar - String], 2 unique values\u001b[90m  # updated = 2\u001b[39m\n",
      "\u001b[34m              \u001b[39m\u001b[31m          \u001b[39m\u001b[32m  │                       \u001b[39m\u001b[33m      \u001b[39m\u001b[36m  ├─────────────── extensions_subjectAltName_0: \u001b[39m\u001b[39m[Scalar - String], 3 unique values\u001b[90m  # updated = 3\u001b[39m\n",
      "\u001b[34m              \u001b[39m\u001b[31m          \u001b[39m\u001b[32m  │                       \u001b[39m\u001b[33m      \u001b[39m\u001b[36m  ├─────────────────────── issuer_localityName: \u001b[39m\u001b[39m[Scalar - String], 3 unique values\u001b[90m  # updated = 7\u001b[39m\n",
      "\u001b[34m              \u001b[39m\u001b[31m          \u001b[39m\u001b[32m  │                       \u001b[39m\u001b[33m      \u001b[39m\u001b[36m  ╰─────────── extensions_subjectKeyIdentifier: \u001b[39m\u001b[39m[Scalar - String], 12 unique values\u001b[90m  # updated = 13\u001b[39m\n",
      "\u001b[34m              \u001b[39m\u001b[31m          \u001b[39m\u001b[32m  ├──────────────── icon: \u001b[39m\u001b[39m[Scalar - String], 19 unique values\u001b[90m  # updated = 23\u001b[39m\n",
      "\u001b[34m              \u001b[39m\u001b[31m          \u001b[39m\u001b[32m  ├──────────── sections: \u001b[39m\u001b[33m[List]\u001b[39m\u001b[90m  # updated = 75\u001b[39m\n",
      "\u001b[34m              \u001b[39m\u001b[31m          \u001b[39m\u001b[32m  │                       \u001b[39m\u001b[33m  ╰── \u001b[39m\u001b[36m[Dict]\u001b[39m\u001b[90m  # updated = 358\u001b[39m\n",
      "\u001b[34m              \u001b[39m\u001b[31m          \u001b[39m\u001b[32m  │                       \u001b[39m\u001b[33m      \u001b[39m\u001b[36m  ├────────── raw_address: \u001b[39m\u001b[39m[Scalar - String], 215 unique values\u001b[90m  # updated = 358\u001b[39m\n",
      "\u001b[34m              \u001b[39m\u001b[31m          \u001b[39m\u001b[32m  │                       \u001b[39m\u001b[33m      \u001b[39m\u001b[36m  ├───────── virtual_size: \u001b[39m\u001b[39m[Scalar - String], 309 unique values\u001b[90m  # updated = 358\u001b[39m\n",
      "\u001b[34m              \u001b[39m\u001b[31m          \u001b[39m\u001b[32m  │                       \u001b[39m\u001b[33m      \u001b[39m\u001b[36m  ├────── virtual_address: \u001b[39m\u001b[39m[Scalar - String], 165 unique values\u001b[90m  # updated = 358\u001b[39m\n",
      "\u001b[34m              \u001b[39m\u001b[31m          \u001b[39m\u001b[32m  │                       \u001b[39m\u001b[33m      \u001b[39m\u001b[36m  ├───────────────── name: \u001b[39m\u001b[39m[Scalar - String], 62 unique values\u001b[90m  # updated = 358\u001b[39m\n",
      "\u001b[34m              \u001b[39m\u001b[31m          \u001b[39m\u001b[32m  │                       \u001b[39m\u001b[33m      \u001b[39m\u001b[36m  ├────────────── entropy: \u001b[39m\u001b[39m[Scalar - String], 226 unique values\u001b[90m  # updated = 358\u001b[39m\n",
      "\u001b[34m              \u001b[39m\u001b[31m          \u001b[39m\u001b[32m  │                       \u001b[39m\u001b[33m      \u001b[39m\u001b[36m  ├───────── size_of_data: \u001b[39m\u001b[39m[Scalar - String], 167 unique values\u001b[90m  # updated = 358\u001b[39m\n",
      "\u001b[34m              \u001b[39m\u001b[31m          \u001b[39m\u001b[32m  │                       \u001b[39m\u001b[33m      \u001b[39m\u001b[36m  ├── characteristics_raw: \u001b[39m\u001b[39m[Scalar - String], 25 unique values\u001b[90m  # updated = 358\u001b[39m\n",
      "\u001b[34m              \u001b[39m\u001b[31m          \u001b[39m\u001b[32m  │                       \u001b[39m\u001b[33m      \u001b[39m\u001b[36m  ╰────── characteristics: \u001b[39m\u001b[39m[Scalar - String], 24 unique values\u001b[90m  # updated = 358\u001b[39m\n",
      "\u001b[34m              \u001b[39m\u001b[31m          \u001b[39m\u001b[32m  ├─────────── imagebase: \u001b[39m\u001b[39m[Scalar - String], 3 unique values\u001b[90m  # updated = 75\u001b[39m\n",
      "\u001b[34m              \u001b[39m\u001b[31m          \u001b[39m\u001b[32m  ├─────────── icon_hash: \u001b[39m\u001b[39m[Scalar - String], 19 unique values\u001b[90m  # updated = 23\u001b[39m\n",
      "\u001b[34m              \u001b[39m\u001b[31m          \u001b[39m\u001b[32m  ├─────────── resources: \u001b[39m\u001b[33m[List]\u001b[39m\u001b[90m  # updated = 75\u001b[39m\n",
      "\u001b[34m              \u001b[39m\u001b[31m          \u001b[39m\u001b[32m  │                       \u001b[39m\u001b[33m  ╰── \u001b[39m\u001b[36m[Dict]\u001b[39m\u001b[90m  # updated = 1267\u001b[39m\n",
      "\u001b[34m              \u001b[39m\u001b[31m          \u001b[39m\u001b[32m  │                       \u001b[39m\u001b[33m      \u001b[39m\u001b[36m  ├─────── offset: \u001b[39m\u001b[39m[Scalar - String], 249 unique values\u001b[90m  # updated = 1267\u001b[39m\n",
      "\u001b[34m              \u001b[39m\u001b[31m          \u001b[39m\u001b[32m  │                       \u001b[39m\u001b[33m      \u001b[39m\u001b[36m  ├───────── name: \u001b[39m\u001b[39m[Scalar - String], 32 unique values\u001b[90m  # updated = 1267\u001b[39m\n",
      "\u001b[34m              \u001b[39m\u001b[31m          \u001b[39m\u001b[32m  │                       \u001b[39m\u001b[33m      \u001b[39m\u001b[36m  ├───── language: \u001b[39m\u001b[39m[Scalar - String], 13 unique values\u001b[90m  # updated = 1119\u001b[39m\n",
      "\u001b[34m              \u001b[39m\u001b[31m          \u001b[39m\u001b[32m  │                       \u001b[39m\u001b[33m      \u001b[39m\u001b[36m  ├── sublanguage: \u001b[39m\u001b[39m[Scalar - String], 18 unique values\u001b[90m  # updated = 1267\u001b[39m\n",
      "\u001b[34m              \u001b[39m\u001b[31m          \u001b[39m\u001b[32m  │                       \u001b[39m\u001b[33m      \u001b[39m\u001b[36m  ├───────── size: \u001b[39m\u001b[39m[Scalar - String], 149 unique values\u001b[90m  # updated = 1267\u001b[39m\n",
      "\u001b[34m              \u001b[39m\u001b[31m          \u001b[39m\u001b[32m  │                       \u001b[39m\u001b[33m      \u001b[39m\u001b[36m  ╰────── entropy: \u001b[39m\u001b[39m[Scalar - String], 158 unique values\u001b[90m  # updated = 1267\u001b[39m\n",
      "\u001b[34m              \u001b[39m\u001b[31m          \u001b[39m\u001b[32m  ╰───────────── imports: \u001b[39m\u001b[33m[List]\u001b[39m\u001b[90m  # updated = 75\u001b[39m\n",
      "\u001b[34m              \u001b[39m\u001b[31m          \u001b[39m\u001b[32m                          \u001b[39m\u001b[33m  ╰── \u001b[39m\u001b[36m[Dict]\u001b[39m\u001b[90m  # updated = 491\u001b[39m\n",
      "\u001b[34m              \u001b[39m\u001b[31m          \u001b[39m\u001b[32m                          \u001b[39m\u001b[33m      \u001b[39m\u001b[36m  ├────── dll: \u001b[39m\u001b[39m[Scalar - String], 79 unique values\u001b[90m  # updated = 491\u001b[39m\n",
      "\u001b[34m              \u001b[39m\u001b[31m          \u001b[39m\u001b[32m                          \u001b[39m\u001b[33m      \u001b[39m\u001b[36m  ╰── imports: \u001b[39m\u001b[35m[List]\u001b[39m\u001b[90m  # updated = 491\u001b[39m\n",
      "\u001b[34m              \u001b[39m\u001b[31m          \u001b[39m\u001b[32m                          \u001b[39m\u001b[33m      \u001b[39m\u001b[36m               \u001b[39m\u001b[35m  ╰── \u001b[39m\u001b[34m[Dict]\u001b[39m\u001b[90m  # updated = 10899\u001b[39m\n",
      "\u001b[34m              \u001b[39m\u001b[31m          \u001b[39m\u001b[32m                          \u001b[39m\u001b[33m      \u001b[39m\u001b[36m               \u001b[39m\u001b[35m      \u001b[39m\u001b[34m  ├── address: \u001b[39m\u001b[39m[Scalar - String], 7621 unique values\u001b[90m  # updated = 10899\u001b[39m\n",
      "\u001b[34m              \u001b[39m\u001b[31m          \u001b[39m\u001b[32m                          \u001b[39m\u001b[33m      \u001b[39m\u001b[36m               \u001b[39m\u001b[35m      \u001b[39m\u001b[34m  ╰───── name: \u001b[39m\u001b[39m[Scalar - String], 2069 unique values\u001b[90m  # updated = 10538\u001b[39m\n"
     ]
    }
   ],
   "source": [
    "chunks = Iterators.partition(train_indexes, div(train_size, THREADS))\n",
    "sch_parts = tmap(chunks) do ch\n",
    "    JsonGrinder.schema(jsons[ch])\n",
    "end\n",
    "time_split_complete_schema = merge(sch_parts...)\n",
    "printtree(time_split_complete_schema)"
   ]
  },
  {
   "cell_type": "code",
   "execution_count": 8,
   "id": "31d48593-a53a-410c-baed-31ec2e799f5f",
   "metadata": {
    "tags": []
   },
   "outputs": [
    {
     "name": "stderr",
     "output_type": "stream",
     "text": [
      "┌ Warning: [:static][:pe]: key versioninfo contains empty array, skipping\n",
      "└ @ JsonGrinder C:\\Users\\aleca\\.julia\\packages\\JsonGrinder\\HGYbL\\src\\schema\\dict.jl:61\n",
      "┌ Warning: [:static][:pe][:guest_signers]: key aux_signers contains empty array, skipping\n",
      "└ @ JsonGrinder C:\\Users\\aleca\\.julia\\packages\\JsonGrinder\\HGYbL\\src\\schema\\dict.jl:61\n"
     ]
    }
   ],
   "source": [
    "#sch=schema(jsons);\n",
    "extractor=suggestextractor(time_split_complete_schema);\n",
    "data=map(extractor,jsons);"
   ]
  },
  {
   "cell_type": "code",
   "execution_count": 9,
   "id": "5cbf71d1-8e03-4f92-b55e-31a35fadb0aa",
   "metadata": {},
   "outputs": [
    {
     "data": {
      "text/plain": [
       "Adam(0.001, (0.9, 0.999), 1.0e-8, IdDict{Any, Any}())"
      ]
     },
     "execution_count": 9,
     "metadata": {},
     "output_type": "execute_result"
    }
   ],
   "source": [
    "#model= reflectinmodel(data[1],\n",
    "#    d -> Dense(d,32,relu),\n",
    "#    SegmentedMeanMax,\n",
    "#    fsm=Dict(\"\" => d -> Chain(Dense(d,32,relu),Dense(32,length(labels)))))\n",
    "labelnames = sort(unique(df_labels.classification_family))\n",
    "neurons = 32\n",
    "model = reflectinmodel(time_split_complete_schema, extractor,\n",
    "\tk -> Dense(k, neurons, relu),\n",
    "\td -> SegmentedMeanMax(d),\n",
    "\tfsm = Dict(\"\" => k -> Dense(k, n_classes)),\n",
    ")\n",
    "\n",
    "minibatchsize = 10\n",
    "function minibatch()\n",
    "\tidx = StatsBase.sample(train_indexes, minibatchsize, replace = false)\n",
    "\treduce(catobs, data[idx]), Flux.onehotbatch(df_labels.classification_family[idx], labelnames)\n",
    "end\n",
    "\n",
    "iterations = 200\n",
    "\n",
    "function calculate_accuracy(x,y) \n",
    "    vals = tmap(x) do s\n",
    "        Flux.onecold(softmax(model(s)), labelnames)[1]\n",
    "    end\n",
    "    mean(vals .== y)\n",
    "end     \n",
    "    \n",
    "\n",
    "eval_trainset = shuffle(train_indexes)\n",
    "eval_testset = shuffle(test_indexes)\n",
    "\n",
    "cb = () -> begin\n",
    "\ttrain_acc = calculate_accuracy(data[eval_trainset], df_labels.classification_family[eval_trainset])\n",
    "\ttest_acc = calculate_accuracy(data[eval_testset], df_labels.classification_family[eval_testset])\n",
    "\tprintln(\"accuracy: train = $train_acc, test = $test_acc\")\n",
    "end\n",
    "ps = Flux.params(model)\n",
    "loss = (x,y) -> Flux.logitcrossentropy(model(x), y)\n",
    "opt = ADAM()"
   ]
  },
  {
   "cell_type": "code",
   "execution_count": null,
   "id": "561747ba-b2de-42df-8b84-89273581aa00",
   "metadata": {},
   "outputs": [
    {
     "name": "stdout",
     "output_type": "stream",
     "text": [
      "accuracy: train = 0.10893512851897184, test = 0.0273224043715847\n",
      "accuracy: train = 0.7270501835985312, test = 0.453551912568306\n"
     ]
    }
   ],
   "source": [
    "Flux.Optimise.train!(loss, ps, repeatedly(minibatch, iterations), opt, cb = Flux.throttle(cb, 2))"
   ]
  },
  {
   "cell_type": "code",
   "execution_count": null,
   "id": "3a2a0a72-9a4b-46a0-80fa-166838c23824",
   "metadata": {},
   "outputs": [],
   "source": [
    "full_train_accuracy = calculate_accuracy(data[train_indexes], df_labels.classification_family[train_indexes])\n",
    "full_test_accuracy = calculate_accuracy(data[test_indexes], df_labels.classification_family[test_indexes])\n",
    "println(\"Final evaluation:\")\n",
    "println(\"Accuratcy on train data: $(full_train_accuracy)\")\n",
    "println(\"Accuratcy on test data: $(full_test_accuracy)\")"
   ]
  },
  {
   "cell_type": "markdown",
   "id": "a910c78b-8b27-4f91-a00e-1e352b99de43",
   "metadata": {
    "tags": []
   },
   "source": [
    "# Classification"
   ]
  },
  {
   "cell_type": "raw",
   "id": "aa8e17d7-c1c6-44f5-b02e-0ec1cb024995",
   "metadata": {
    "tags": []
   },
   "source": [
    "features=model(data)\n",
    "features=reshape(features,(n_samples,length(labels)))\n",
    "targets=convert(Array,targets);"
   ]
  },
  {
   "cell_type": "raw",
   "id": "a8da82d9-779c-4ea3-a5c8-4c25bb4cd8d4",
   "metadata": {
    "jupyter": {
     "outputs_hidden": true
    },
    "tags": []
   },
   "source": [
    "idx=shuffle(collect(1:n_samples))\n",
    "tr_frac=0.8\n",
    "train_indexes=idx[1:round(Int,tr_frac*n_samples)]\n",
    "test_indexes=setdiff(idx,train_indexes)\n",
    "\n",
    "train_size = length(train_indexes)\n",
    "test_size = length(test_indexes)\n",
    "\n",
    "println(\"Train size: $(train_size)\")\n",
    "println(\"Test size: $(test_size)\")\n",
    "\n",
    "x_tr=features[train_indexes,:]\n",
    "y_tr=targets[train_indexes]\n",
    "\n",
    "x_ts=features[test_indexes,:]\n",
    "y_ts=targets[test_indexes];\n",
    "\n",
    "println(\"x_tr shape: $(size(x_tr))\")\n",
    "println(\"y_tr shape: $(size(y_tr))\")\n",
    "println(\"x_ts shape: $(size(x_ts))\")\n",
    "println(\"y_ts shape: $(size(y_ts))\")\n",
    "\n",
    "println(\"Number of Train classes: $(length(Set(y_tr)))\")\n",
    "println(\"Number of Test classes: $(length(Set(y_ts)))\")"
   ]
  },
  {
   "cell_type": "raw",
   "id": "ee2b5905-46fb-4927-8d0d-d61cf5be33cb",
   "metadata": {},
   "source": [
    "@sk_import ensemble: RandomForestClassifier\n",
    "\n",
    "rf_model=RandomForestClassifier()\n",
    "\n",
    "using ScikitLearn: fit!\n",
    "fit!(rf_model,x_tr,y_tr)"
   ]
  },
  {
   "cell_type": "raw",
   "id": "76371de6-324c-453b-a2b4-264cbaf094b7",
   "metadata": {},
   "source": [
    "using ScikitLearn: predict\n",
    "@sk_import metrics: accuracy_score\n",
    "\n",
    "pred=predict(rf_model,x_tr);\n",
    "accuracy=accuracy_score(pred,y_tr)\n",
    "println(\"Train Accuracy: $(accuracy)\")\n",
    "\n",
    "pred=predict(rf_model,x_ts);\n",
    "accuracy=accuracy_score(pred,y_ts)\n",
    "println(\"Test Accuracy: $(accuracy)\")\n"
   ]
  },
  {
   "cell_type": "code",
   "execution_count": null,
   "id": "91633c71-1374-4368-9bec-615743cc2c86",
   "metadata": {},
   "outputs": [],
   "source": []
  },
  {
   "cell_type": "code",
   "execution_count": null,
   "id": "5cb655fa-ce3e-4ada-bed9-0aca89297ddc",
   "metadata": {},
   "outputs": [],
   "source": []
  },
  {
   "cell_type": "code",
   "execution_count": null,
   "id": "376c476f-b720-4215-88c4-4e19b8883262",
   "metadata": {},
   "outputs": [],
   "source": []
  },
  {
   "cell_type": "code",
   "execution_count": null,
   "id": "1faac376-8229-4a4f-8f45-985e431c3f40",
   "metadata": {},
   "outputs": [],
   "source": []
  }
 ],
 "metadata": {
  "kernelspec": {
   "display_name": "Julia 1.6.7",
   "language": "julia",
   "name": "julia-1.6"
  },
  "language_info": {
   "file_extension": ".jl",
   "mimetype": "application/julia",
   "name": "julia",
   "version": "1.6.7"
  }
 },
 "nbformat": 4,
 "nbformat_minor": 5
}
